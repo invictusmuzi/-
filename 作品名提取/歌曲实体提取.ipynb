{
 "cells": [
  {
   "cell_type": "code",
   "execution_count": 1,
   "metadata": {},
   "outputs": [
    {
     "name": "stderr",
     "output_type": "stream",
     "text": [
      "E:\\PythonEnvironments\\paddlenlp\\lib\\site-packages\\_distutils_hack\\__init__.py:33: UserWarning: Setuptools is replacing distutils.\n",
      "  warnings.warn(\"Setuptools is replacing distutils.\")\n"
     ]
    }
   ],
   "source": [
    "import os\n",
    "from paddlenlp import Taskflow"
   ]
  },
  {
   "cell_type": "code",
   "execution_count": 6,
   "metadata": {},
   "outputs": [
    {
     "name": "stderr",
     "output_type": "stream",
     "text": [
      "\u001B[32m[2024-02-20 20:14:13,388] [    INFO]\u001B[0m - We are using <class 'paddlenlp.transformers.ernie.tokenizer.ErnieTokenizer'> to load 'E:\\PythonEnvironments\\paddlenlp\\taskflow\\information_extraction\\uie-base'.\u001B[0m\n"
     ]
    }
   ],
   "source": [
    "schema = ['歌曲']\n",
    "\n",
    "# 加载预训练的 UIE 模型\n",
    "uie = Taskflow('information_extraction', schema=schema)"
   ]
  },
  {
   "cell_type": "code",
   "execution_count": 3,
   "metadata": {},
   "outputs": [],
   "source": [
    "# 读取文件内容\n",
    "file_path = '作品名.txt'\n",
    "with open(file_path, 'r', encoding='utf-8') as file:\n",
    "    text = file.read()"
   ]
  },
  {
   "cell_type": "code",
   "execution_count": 7,
   "metadata": {},
   "outputs": [],
   "source": [
    "# 执行实体提取\n",
    "entities = uie(text)"
   ]
  },
  {
   "cell_type": "code",
   "execution_count": 8,
   "metadata": {},
   "outputs": [
    {
     "name": "stdout",
     "output_type": "stream",
     "text": [
      "[{'歌曲': [{'text': '忐忑', 'start': 8867, 'end': 8869, 'probability': 0.3979721003869727}, {'text': '画心', 'start': 15796, 'end': 15798, 'probability': 0.2915407939842005}, {'text': '树林\\n羡鱼', 'start': 17080, 'end': 17085, 'probability': 0.39457673028351437}]}]\n"
     ]
    }
   ],
   "source": [
    "print(entities)"
   ]
  },
  {
   "cell_type": "code",
   "execution_count": null,
   "metadata": {},
   "outputs": [],
   "source": [
    "#提取效果不好，差差差"
   ]
  }
 ],
 "metadata": {
  "kernelspec": {
   "display_name": "PaddleNLP",
   "language": "python",
   "name": "paddlenlp"
  },
  "language_info": {
   "codemirror_mode": {
    "name": "ipython",
    "version": 3
   },
   "file_extension": ".py",
   "mimetype": "text/x-python",
   "name": "python",
   "nbconvert_exporter": "python",
   "pygments_lexer": "ipython3",
   "version": "3.8.18"
  }
 },
 "nbformat": 4,
 "nbformat_minor": 4
}
